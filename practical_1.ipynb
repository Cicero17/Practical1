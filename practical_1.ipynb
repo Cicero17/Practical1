{
 "cells": [
  {
   "cell_type": "code",
   "execution_count": 6,
   "metadata": {},
   "outputs": [
    {
     "data": {
      "image/png": "[encoded data removed]",
      "text/plain": [
       "<Figure size 432x288 with 1 Axes>"
      ]
     },
     "metadata": {
      "needs_background": "light"
     },
     "output_type": "display_data"
    }
   ],
   "source": [
    "import _pickle as cp\n",
    "import numpy as np\n",
    "from pylab import *\n",
    "import matplotlib.pyplot as plt\n",
    "import math\n",
    "from sklearn.preprocessing import PolynomialFeatures\n",
    "from sklearn.pipeline import Pipeline\n",
    "from sklearn import linear_model\n",
    "\n",
    "\n",
    "X, y = cp.load(open('winequality-white.pickle', 'rb'))\n",
    "\n",
    "N, D = X.shape\n",
    "N_train = int(0.8 * N)\n",
    "N_test = N - N_train\n",
    "X_train = X[:N_train]\n",
    "y_train = y[:N_train]\n",
    "X_test = X[N_train:]\n",
    "y_test = y[N_train:]\n",
    "\n",
    "fig = plt.figure()\n",
    "\n",
    "\n",
    "ax1 = fig.add_subplot(2,1,1) #first task\n",
    "ax1.set_title('Y train', fontsize = 13, color = 'b')\n",
    "frecv = [0]*7\n",
    "note = [3,4,5,6,7,8,9] # np.hist\n",
    "for i in y_train:\n",
    "    frecv[int(i)-3]+=1\n",
    "ax1.bar(x = note, height = frecv) \n",
    "plt.show()\n",
    "\n",
    "\n",
    "\n",
    "\n"
   ]
  },
  {
   "cell_type": "code",
   "execution_count": 7,
   "metadata": {},
   "outputs": [
    {
     "name": "stdout",
     "output_type": "stream",
     "text": [
      "MSE train for average model: 0.7767772386501117\n",
      "MSE test for average model: 0.8138390254060807\n"
     ]
    }
   ],
   "source": [
    "mse = 0 # second task\n",
    "exp = np.mean(y_train)\n",
    "mse = np.mean((y_train - exp) ** 2)\n",
    "\n",
    "print('MSE train for average model: '+str(mse))\n",
    "\n",
    "\n",
    "mse = 0\n",
    "exp = np.mean(y_test)\n",
    "\n",
    "mse = mse = np.mean((y_test - exp) ** 2)\n",
    "\n",
    "\n",
    "print('MSE test for average model: '+str(mse))"
   ]
  },
  {
   "cell_type": "code",
   "execution_count": 17,
   "metadata": {},
   "outputs": [
    {
     "name": "stdout",
     "output_type": "stream",
     "text": [
      "MSE train for linear regression is: 0.5602937036837484\n",
      "MSE test for linear regression is: 0.5603456060459491\n"
     ]
    },
    {
     "data": {
      "image/png": "[encoded data removed]",
      "text/plain": [
       "<Figure size 432x288 with 1 Axes>"
      ]
     },
     "metadata": {
      "needs_background": "light"
     },
     "output_type": "display_data"
    }
   ],
   "source": [
    "# third task\n",
    "# Because in linear regression, there is no penalty considered for the weights (lambda = 0) \n",
    "# and so there is no point in standardizing to have the intercept (w0) = 0 \n",
    "expectation = np.mean(X_train, axis = 0)\n",
    "variance = np.var(X_train, axis = 0)\n",
    "standard_dev = np.sqrt(variance) \n",
    "\n",
    "\n",
    "#now we standardize the training and test data (subtract expectation, divide by standard_dev)\n",
    "X_train -= expectation\n",
    "X_train /= standard_dev    \n",
    "        \n",
    "X_test -= expectation\n",
    "X_test /= standard_dev    \n",
    "        \n",
    "X_train_extra = np.insert(X_train,0,1,axis=1)\n",
    "X_test_extra = np.insert(X_test,0,1,axis=1)\n",
    "\n",
    "#compute w and the mse train and test        \n",
    "w = np.linalg.inv(X_train_extra.T.dot(X_train_extra)).dot(X_train_extra.T).dot(y_train)\n",
    "ynew_train = X_train_extra.dot(w)\n",
    "mse_new_train = getmse(X_train_extra, y_train,w)\n",
    "\n",
    "\n",
    "\n",
    "\n",
    "print('MSE train for linear regression is: '+str(mse_new_train))\n",
    "\n",
    "y_new_test = X_test_extra.dot(w)\n",
    "mse_test = 0\n",
    "for i  in range(N_test):\n",
    "    mse_test += (y_new_test[i]-y_test[i])**2\n",
    "mse_test/=N_test\n",
    "print('MSE test for linear regression is: ' + str(mse_test))\n",
    "\n",
    "\n",
    "\n",
    "def getmse(X, y, w): #task4\n",
    "    yhat = X.dot(w)\n",
    "    mse = 0\n",
    "    mse = np.mean((y - yhat) ** 2)\n",
    "    return mse\n",
    "\n",
    "xs = [i for i in range(20,600,20)]                 \n",
    "ys_train = []\n",
    "ys_test = []\n",
    "for i in xs:\n",
    "    Xi = X_train_extra[:i]\n",
    "    yi = y_train[:i]\n",
    "    w = np.linalg.inv(Xi.T.dot(Xi)).dot(Xi.T).dot(yi)\n",
    "    \n",
    "    a = getmse(Xi,yi,w)\n",
    "    b = getmse(X_test_extra[:i],y_test[:i],w)\n",
    "    ys_train += [a]\n",
    "    ys_test += [b]\n",
    "    \n",
    "\n",
    "\n",
    "plt.plot(xs,ys_train,'y', label = 'Train MSE learning curve')\n",
    "plt.plot(xs, ys_test, 'r',label = 'Test  MSE learning curve')\n",
    "plt.legend(loc = 'upper right', fontsize = 13) \n",
    "plt.show()"
   ]
  },
  {
   "cell_type": "code",
   "execution_count": null,
   "metadata": {},
   "outputs": [],
   "source": [
    "lamb = np.array([0.01, 0.1, 1, 10, 100])\n",
    "max_ridge = 0\n",
    "max_lasso = 0\n",
    "lambda_ridge = 0\n",
    "lambda_lasso = 0\n",
    "\n",
    "\n",
    "N_valid = int(0.8 * N_train)\n",
    "X_valid = X_train[N_valid:]\n",
    "X_train = X_train[:N_valid]\n",
    "y_valid = y_train[N_valid:]\n",
    "y_train = y_train[:N_valid]\n",
    "\n",
    "\n",
    "for i in range(5):\n",
    "    \n",
    "    ridge = Pipeline([('poly', PolynomialFeatures(degree=2)),('linear', linear_model.Ridge(lamb[i]))])\n",
    "    ridge = ridge.fit(X_train, y_train)\n",
    "\n",
    "    lasso = Pipeline([('poly', PolynomialFeatures(degree=2)),('linear', linear_model.Lasso(lamb[i]))])\n",
    "    lasso = lasso.fit(X_train, y_train)\n",
    "    \n",
    "    lasso_score = lasso.score(X_valid, y_valid)\n",
    "    ridge_score = ridge.score(X_valid, y_valid)\n",
    "    \n",
    "    if(lasso_score > max_lasso):\n",
    "        max_lasso = lasso_score\n",
    "        lambda_lasso = lamb[i]\n",
    "    if(ridge_score > max_ridge):\n",
    "        max_ridge = ridge_score\n",
    "        lambda_ridge = lamb[i]\n",
    "        \n",
    "ridge = Pipeline([('poly', PolynomialFeatures(degree=2)),('linear', linear_model.Ridge(lambda_ridge))])\n",
    "ridge = ridge.fit(X_train, y_train)\n",
    "\n",
    "lasso = Pipeline([('poly', PolynomialFeatures(degree=2)),('linear', linear_model.Lasso(lambda_lasso))])\n",
    "lasso = lasso.fit(X_train, y_train)\n",
    "\n",
    "y_ridge_train = ridge.predict(X_train)\n",
    "y_lasso_train = lasso.predict(X_train)\n",
    "\n",
    "error_ridge_train = np.mean((y_ridge_train - y_train) ** 2)\n",
    "error_lasso_train = np.mean((y_lasso_train - y_train) ** 2)\n",
    "\n",
    "\n",
    "\n",
    "y_ridge_test = ridge.predict(X_test)\n",
    "y_lasso_test = lasso.predict(X_test)\n",
    "\n",
    "error_ridge_test = np.mean((y_ridge_test - y_test) ** 2)\n",
    "error_lasso_test = np.mean((y_lasso_test - y_test) ** 2)\n",
    "\n",
    "print()\n",
    "print('MSE train for ridge regression is: '+ str(error_ridge_train))\n",
    "print('MSE test for ridge regression is: '+ str(error_ridge_test))\n",
    "print('MSE train for lasso regression is: '+ str(error_lasso_train))\n",
    "print('MSE test for lasso regression is: '+ str(error_lasso_test))\n",
    "\t\n",
    "plt.show()\n"
   ]
  }
 ],
 "metadata": {
  "kernelspec": {
   "display_name": "Python 3",
   "language": "python",
   "name": "python3"
  },
  "language_info": {
   "codemirror_mode": {
    "name": "ipython",
    "version": 3
   },
   "file_extension": ".py",
   "mimetype": "text/x-python",
   "name": "python",
   "nbconvert_exporter": "python",
   "pygments_lexer": "ipython3",
   "version": "3.6.6"
  }
 },
 "nbformat": 4,
 "nbformat_minor": 2
}
